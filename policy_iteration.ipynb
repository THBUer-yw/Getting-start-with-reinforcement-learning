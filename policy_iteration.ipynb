{
 "cells": [
  {
   "cell_type": "code",
   "execution_count": 1,
   "id": "910386f4",
   "metadata": {},
   "outputs": [],
   "source": [
    "import numpy as np\n",
    "from env.gridWorld import GridworldEnv"
   ]
  },
  {
   "cell_type": "code",
   "execution_count": 2,
   "id": "f9219bc9",
   "metadata": {},
   "outputs": [
    {
     "name": "stdout",
     "output_type": "stream",
     "text": [
      "obs_dim:16,action_dim:4\n"
     ]
    }
   ],
   "source": [
    "env = GridworldEnv()\n",
    "obs_dim = env.nS\n",
    "action_dim = env.nA\n",
    "print(f\"obs_dim:{obs_dim},action_dim:{action_dim}\")"
   ]
  },
  {
   "cell_type": "code",
   "execution_count": 3,
   "id": "08e5c57c",
   "metadata": {},
   "outputs": [
    {
     "name": "stdout",
     "output_type": "stream",
     "text": [
      "random_policy:[[0.25 0.25 0.25 0.25]\n",
      " [0.25 0.25 0.25 0.25]\n",
      " [0.25 0.25 0.25 0.25]\n",
      " [0.25 0.25 0.25 0.25]\n",
      " [0.25 0.25 0.25 0.25]\n",
      " [0.25 0.25 0.25 0.25]\n",
      " [0.25 0.25 0.25 0.25]\n",
      " [0.25 0.25 0.25 0.25]\n",
      " [0.25 0.25 0.25 0.25]\n",
      " [0.25 0.25 0.25 0.25]\n",
      " [0.25 0.25 0.25 0.25]\n",
      " [0.25 0.25 0.25 0.25]\n",
      " [0.25 0.25 0.25 0.25]\n",
      " [0.25 0.25 0.25 0.25]\n",
      " [0.25 0.25 0.25 0.25]\n",
      " [0.25 0.25 0.25 0.25]]\n"
     ]
    }
   ],
   "source": [
    "random_policy = np.ones([obs_dim, action_dim]) / action_dim\n",
    "print(f\"random_policy:{random_policy}\")"
   ]
  },
  {
   "cell_type": "code",
   "execution_count": 4,
   "id": "d25fd64e",
   "metadata": {},
   "outputs": [],
   "source": [
    "def policy_eval(policy, env, discount_factor, theta):\n",
    "    values = np.zeros(obs_dim)\n",
    "    while True:\n",
    "        delta = 0\n",
    "        for obs in range(obs_dim):\n",
    "            expect_value= 0\n",
    "            for action, action_prob in enumerate(random_policy[obs]):\n",
    "                for state_prob, next_state, reward, done in env.P[obs][action]:\n",
    "                    expect_value += action_prob*state_prob*(reward+discount_factor*values[next_state])\n",
    "            delta = max(delta, np.abs(expect_value - values[obs]))\n",
    "            values[obs] = expect_value\n",
    "        if delta < theta:\n",
    "            break\n",
    "    return values"
   ]
  },
  {
   "cell_type": "markdown",
   "id": "83d4d5bb",
   "metadata": {},
   "source": [
    "#### 策略评估\n",
    "+ 定义：已知马尔可夫决策过程和策略$\\pi$，计算价值函数$V_{\\pi}(s)$的过程\n",
    "+ 策略评估公式：$V(s) \\leftarrow \\sum_a \\pi(s, a) \\sum_{s^{\\prime}} \\mathcal{P}_{s s^{\\prime}}^a\\left[\\mathcal{R}_{s s^{\\prime}}^a+\\gamma V\\left(s^{\\prime}\\right)\\right]$"
   ]
  },
  {
   "cell_type": "code",
   "execution_count": 5,
   "id": "ef22b2d8",
   "metadata": {},
   "outputs": [],
   "source": [
    "def one_step_lookahead(state, V, discount_factor):\n",
    "    Q_values = np.zeros(action_dim)\n",
    "    for action in range(action_dim):\n",
    "        for prob, next_state, reward, done in env.P[state][action]:\n",
    "            Q_values[action] += prob*(reward + discount_factor*V[next_state])\n",
    "    return Q_values"
   ]
  },
  {
   "cell_type": "code",
   "execution_count": 6,
   "id": "3e11063b",
   "metadata": {},
   "outputs": [],
   "source": [
    "def policy_iteration(env, eval_policy_func, discount_factor, theta):\n",
    "    policy = random_policy\n",
    "    while True:\n",
    "        values = eval_policy_func(policy, env, discount_factor, theta)\n",
    "        police_stable = True\n",
    "        \n",
    "        for state in range(obs_dim):\n",
    "            now_best_choosen_action = np.argmax(policy[state])\n",
    "            expect_best_action = np.argmax(one_step_lookahead(state, values, discount_factor))\n",
    "            \n",
    "            # greedily update the policy\n",
    "            if now_best_choosen_action != expect_best_action:\n",
    "                police_stable = False\n",
    "            policy[state] = np.eye(action_dim)[expect_best_action]\n",
    "        \n",
    "        if police_stable:\n",
    "            return policy, values"
   ]
  },
  {
   "cell_type": "markdown",
   "id": "3651775b",
   "metadata": {},
   "source": [
    "#### 策略迭代\n",
    "+ 定义:已知马尔可夫决策过程，不断迭代优化得到最优策略的过程\n",
    "+ 迭代步骤：\n",
    "    + 策略评估：迭代收敛获得当前策略下所有状态的准确状态价值$V(s)$\n",
    "    + 策略改进：根据上一步获得的准确$V(s)$，得到所有状态下的最优动作并更新策略\n",
    "    + 重复上述两个过程，直到策略收敛平稳\n",
    "    + 策略改进公式：$\\pi(s) \\leftarrow \\arg \\max _a \\sum_{s^{\\prime}} p\\left(s^{\\prime} \\mid s, a\\right)[r\\left(s, a, s^{\\prime}\\right)+\\gamma v\\left(s^{\\prime}\\right)]$"
   ]
  },
  {
   "cell_type": "code",
   "execution_count": 7,
   "id": "b104a41a",
   "metadata": {},
   "outputs": [
    {
     "data": {
      "image/png": "[encoded data removed]",
      "text/plain": [
       "<Figure size 640x480 with 2 Axes>"
      ]
     },
     "metadata": {},
     "output_type": "display_data"
    },
    {
     "name": "stdout",
     "output_type": "stream",
     "text": [
      "[[1. 0. 0. 0.]\n",
      " [0. 0. 0. 1.]\n",
      " [0. 0. 0. 1.]\n",
      " [0. 0. 1. 0.]\n",
      " [1. 0. 0. 0.]\n",
      " [1. 0. 0. 0.]\n",
      " [1. 0. 0. 0.]\n",
      " [0. 0. 1. 0.]\n",
      " [1. 0. 0. 0.]\n",
      " [1. 0. 0. 0.]\n",
      " [0. 1. 0. 0.]\n",
      " [0. 0. 1. 0.]\n",
      " [1. 0. 0. 0.]\n",
      " [0. 1. 0. 0.]\n",
      " [0. 1. 0. 0.]\n",
      " [1. 0. 0. 0.]]\n"
     ]
    }
   ],
   "source": [
    "import matplotlib.pyplot as plt\n",
    "\n",
    "def plot_values(values):  \n",
    "    fig, ax = plt.subplots()\n",
    "    ax.set_xticks(range(len(values)))\n",
    "    ax.set_yticks(range(len(values[0])))\n",
    "    im = ax.imshow(values, cmap=\"YlGn\")\n",
    "    plt.colorbar(im)\n",
    "    \n",
    "    for i in range(len(values)):\n",
    "        for j in range(len(values[0])):\n",
    "            ax.text(j, i, np.round(values[i][j], 1), ha=\"center\", va=\"center\", color=\"black\")\n",
    "    \n",
    "    fig.tight_layout()\n",
    "    plt.show()\n",
    "    \n",
    "policy, values = policy_iteration(env, policy_eval, 1.0, 1e-5)\n",
    "values = values.reshape(env.shape)\n",
    "plot_values(values)\n",
    "print(policy)"
   ]
  },
  {
   "cell_type": "code",
   "execution_count": null,
   "id": "fbae8eb9",
   "metadata": {},
   "outputs": [],
   "source": []
  }
 ],
 "metadata": {
  "kernelspec": {
   "display_name": "Python 3 (ipykernel)",
   "language": "python",
   "name": "python3"
  },
  "language_info": {
   "codemirror_mode": {
    "name": "ipython",
    "version": 3
   },
   "file_extension": ".py",
   "mimetype": "text/x-python",
   "name": "python",
   "nbconvert_exporter": "python",
   "pygments_lexer": "ipython3",
   "version": "3.10.6"
  }
 },
 "nbformat": 4,
 "nbformat_minor": 5
}
