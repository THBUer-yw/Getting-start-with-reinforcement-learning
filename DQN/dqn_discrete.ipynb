{
 "cells": [
  {
   "cell_type": "code",
   "execution_count": 1,
   "id": "910386f4",
   "metadata": {},
   "outputs": [
    {
     "name": "stdout",
     "output_type": "stream",
     "text": [
      "4 2\n"
     ]
    }
   ],
   "source": [
    "import gym\n",
    "env = gym.make(\"CartPole-v1\", render_mode=\"rgb_array\")\n",
    "env = env.unwrapped # 解除对原始gym环境的timelimit封装，不限制每一局的step次数\n",
    "obs_dim = env.observation_space.shape[0]\n",
    "action_dim = env.action_space.n\n",
    "print(obs_dim, action_dim)"
   ]
  },
  {
   "cell_type": "code",
   "execution_count": 2,
   "id": "1748bc1b",
   "metadata": {},
   "outputs": [],
   "source": [
    "import torch.nn as nn\n",
    "import torch.nn.functional as f\n",
    "import numpy as np\n",
    "\n",
    "class Net(nn.Module):\n",
    "    def __init__(self):\n",
    "        super(Net, self).__init__()\n",
    "        self.fc1 = nn.Linear(obs_dim, 128)\n",
    "        nn.init.normal_(self.fc1.weight, mean=0, std=0.1)\n",
    "        # print(self.fc1.weight, self.fc1.weight) # 两者好像没有区别\n",
    "        self.fc2 = nn.Linear(128, 128)\n",
    "        nn.init.normal_(self.fc2.weight, mean=0, std=0.1)\n",
    "        self.fc3 = nn.Linear(128, action_dim)\n",
    "        nn.init.normal_(self.fc3.weight, mean=0, std=0.1)\n",
    "    \n",
    "    def forward(self, input):\n",
    "        x = self.fc1(input)\n",
    "        x1 = f.relu(x)\n",
    "        x2 = self.fc2(x1)\n",
    "        x3 = f.relu(x2)\n",
    "        action_probs = self.fc3(x3)\n",
    "        return action_probs"
   ]
  },
  {
   "cell_type": "code",
   "execution_count": 3,
   "id": "69c003fa",
   "metadata": {},
   "outputs": [],
   "source": [
    "import torch\n",
    "\n",
    "memory_size = 1000\n",
    "learning_rate = 1e-3\n",
    "epsilon = 0.1\n",
    "target_update_interval = 100\n",
    "batch_size = 128\n",
    "gamma = 0.95\n",
    "\n",
    "class DQN():\n",
    "    def __init__(self):\n",
    "        super(DQN, self).__init__()\n",
    "        self.learn_net, self.target_net = Net(), Net()\n",
    "        self.learning_step = 0\n",
    "        self.memory_counter = 0\n",
    "        self.memory = np.zeros((memory_size, 2*obs_dim+2))\n",
    "        self.optimizer = torch.optim.Adam(self.learn_net.parameters(), lr=learning_rate)\n",
    "        self.loss_function = nn.MSELoss()\n",
    "        self.episode_loss = []\n",
    "        \n",
    "    def choose_action(self, obs):\n",
    "        obs = torch.FloatTensor(obs)\n",
    "        if np.random.rand() >= epsilon:\n",
    "            action_probs = self.learn_net.forward(obs)\n",
    "            action = torch.argmax(action_probs).numpy()\n",
    "        else:\n",
    "            action = np.random.randint(0, action_dim)\n",
    "        return action\n",
    "    \n",
    "    def store_transition(self, obs, action, reward, next_obs):\n",
    "        transition = np.hstack((obs, action, reward, next_obs))\n",
    "        index = self.memory_counter % memory_size\n",
    "        self.memory[index] = transition\n",
    "        self.memory_counter += 1\n",
    "    \n",
    "    def learn(self, episode, terminated):\n",
    "        if self.learning_step % target_update_interval == 0:\n",
    "            self.target_net.load_state_dict(self.learn_net.state_dict())\n",
    "            \n",
    "        self.learning_step += 1\n",
    "        \n",
    "        sample_index = np.random.choice(memory_size, batch_size)\n",
    "        batch_data = self.memory[sample_index, :]\n",
    "        batch_obs = torch.FloatTensor(batch_data[:, :obs_dim])\n",
    "        # gather(): Expected dtype int64 for index，参考：https://zhuanlan.zhihu.com/p/352877584\n",
    "        batch_action = torch.LongTensor(batch_data[:, obs_dim:obs_dim+1].astype(int)) \n",
    "        batch_reward = torch.FloatTensor(batch_data[:, obs_dim+1:obs_dim+2])\n",
    "        batch_next_obs = torch.FloatTensor(batch_data[:, -obs_dim:])\n",
    "        \n",
    "        state_action_values = self.learn_net(batch_obs).gather(1, batch_action)\n",
    "        next_state_action_values = self.target_net(batch_next_obs).detach()\n",
    "        target_state_action_values = batch_reward + gamma*next_state_action_values.max(1)[0].view(batch_size, 1)\n",
    "        loss = self.loss_function(state_action_values, target_state_action_values)\n",
    "        \n",
    "        self.episode_loss.append(loss.data.numpy())\n",
    "        episode_loss = 0\n",
    "        if terminated:\n",
    "            episode_loss = self.episode_loss\n",
    "            self.episode_loss = []\n",
    "        \n",
    "        self.optimizer.zero_grad()\n",
    "        loss.backward()\n",
    "        self.optimizer.step()\n",
    "        \n",
    "        return episode_loss\n",
    "        \n",
    "    def reward_function(self, next_obs):\n",
    "        x, x_dot, theta, theta_dot = next_obs\n",
    "        r1 = (env.x_threshold - abs(x))/env.x_threshold - 0.5\n",
    "        r2 = (env.theta_threshold_radians - abs(theta)) / env.theta_threshold_radians - 0.5\n",
    "        reward = r1 + r2\n",
    "        return reward"
   ]
  },
  {
   "cell_type": "code",
   "execution_count": 4,
   "id": "948c57ec",
   "metadata": {},
   "outputs": [
    {
     "name": "stdout",
     "output_type": "stream",
     "text": [
      "episode:110,step:9,episode_reward:5.03179860027931,avg_episode_loss:0.017654838040471077\n",
      "episode:120,step:38,episode_reward:15.590566380617318,avg_episode_loss:0.04371381923556328\n",
      "episode:130,step:120,episode_reward:61.53139504529783,avg_episode_loss:0.018523667007684708\n",
      "episode:140,step:854,episode_reward:517.4994922788286,avg_episode_loss:0.001066695898771286\n",
      "episode:150,step:1070,episode_reward:633.5336612382536,avg_episode_loss:0.0004420429759193212\n",
      "episode:160,step:3690,episode_reward:2222.230818443684,avg_episode_loss:0.0005094236112199724\n",
      "episode:170,step:2021,episode_reward:1565.133092119154,avg_episode_loss:0.00031189018045552075\n",
      "episode:180,step:2099,episode_reward:1157.3538464195808,avg_episode_loss:0.00035325283533893526\n",
      "episode:190,step:4134,episode_reward:1911.8440232426292,avg_episode_loss:0.00035107129951938987\n",
      "episode:200,step:1754,episode_reward:1307.0938326813257,avg_episode_loss:0.00023259299632627517\n"
     ]
    }
   ],
   "source": [
    "def main():\n",
    "    dqn = DQN()\n",
    "    for episode in range(200):\n",
    "        obs, info= env.reset()\n",
    "        episode_reward = 0\n",
    "        step = 0\n",
    "        while True:\n",
    "            action = dqn.choose_action(obs)\n",
    "            next_obs, reward, terminated, truncated, info = env.step(action)\n",
    "            step += 1\n",
    "            reward = dqn.reward_function(next_obs)\n",
    "            dqn.store_transition(obs, action, reward, next_obs)\n",
    "            episode_reward += reward\n",
    "            if dqn.memory_counter >= memory_size:\n",
    "                episode_loss = dqn.learn(episode, terminated)\n",
    "                torch.save(dqn.learn_net.state_dict(), \"./saved_models/CartPole-v1.pt\")\n",
    "                if (terminated or truncated) and (episode+1) % 10 == 0:\n",
    "                    print(f\"episode:{episode+1},step:{step},episode_reward:{episode_reward},avg_episode_loss:{np.mean(np.array(episode_loss))}\")\n",
    "            if terminated or truncated:\n",
    "                break\n",
    "            obs = next_obs\n",
    "\n",
    "if __name__ == \"__main__\":\n",
    "    main()"
   ]
  },
  {
   "cell_type": "code",
   "execution_count": 5,
   "id": "4c0159bc",
   "metadata": {},
   "outputs": [
    {
     "data": {
      "image/png": "[encoded data removed]",
      "text/plain": [
       "<Figure size 640x480 with 1 Axes>"
      ]
     },
     "metadata": {},
     "output_type": "display_data"
    },
    {
     "name": "stdout",
     "output_type": "stream",
     "text": [
      "episode:1,step:100,episode_reward:96.49069551428258\n"
     ]
    }
   ],
   "source": [
    "import matplotlib.pyplot as plt\n",
    "import os\n",
    "os.environ[\"SDL_VIDEODRIVER\"] = \"dummy\"\n",
    "from IPython.display import clear_output\n",
    "eval_net = Net()\n",
    "eval_net.load_state_dict(torch.load(\"./saved_models/CartPole-v1.pt\"))\n",
    "eval_net.eval()\n",
    "\n",
    "def reward_function(next_obs):\n",
    "        x, x_dot, theta, theta_dot = next_obs\n",
    "        r1 = (env.x_threshold - abs(x))/env.x_threshold - 0.5\n",
    "        r2 = (env.theta_threshold_radians - abs(theta)) / env.theta_threshold_radians - 0.5\n",
    "        reward = r1 + r2\n",
    "        return reward\n",
    "    \n",
    "for episode in range(1):\n",
    "    obs, info = env.reset()\n",
    "    episode_reward = 0\n",
    "    for step in range(100):\n",
    "        obs = torch.FloatTensor(obs)\n",
    "        action = torch.argmax(eval_net.forward(obs)).numpy()\n",
    "        next_obs, reward, terminated, truncated, info = env.step(action)\n",
    "        reward = reward_function(next_obs)\n",
    "        episode_reward += reward\n",
    "        if terminated or truncated:\n",
    "            break\n",
    "        obs = next_obs\n",
    "        clear_output(wait=True)\n",
    "        plt.imshow(env.render())\n",
    "        plt.show()\n",
    "    print(f\"episode:{episode+1},step:{step+1},episode_reward:{episode_reward}\")\n",
    "    \n",
    "env.close()"
   ]
  },
  {
   "cell_type": "code",
   "execution_count": null,
   "id": "5c2568c9",
   "metadata": {},
   "outputs": [],
   "source": []
  }
 ],
 "metadata": {
  "kernelspec": {
   "display_name": "Python 3 (ipykernel)",
   "language": "python",
   "name": "python3"
  },
  "language_info": {
   "codemirror_mode": {
    "name": "ipython",
    "version": 3
   },
   "file_extension": ".py",
   "mimetype": "text/x-python",
   "name": "python",
   "nbconvert_exporter": "python",
   "pygments_lexer": "ipython3",
   "version": "3.10.6"
  }
 },
 "nbformat": 4,
 "nbformat_minor": 5
}
